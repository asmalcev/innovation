{
 "cells": [
  {
   "cell_type": "code",
   "execution_count": 81,
   "metadata": {},
   "outputs": [],
   "source": [
    "import pandas as pd"
   ]
  },
  {
   "cell_type": "code",
   "execution_count": 82,
   "metadata": {},
   "outputs": [],
   "source": [
    "csvs = [\n",
    "    'habr',\n",
    "    'cyberleninka',\n",
    "    'googlescholar'\n",
    "]\n",
    "\n",
    "authors = dict()\n",
    "\n",
    "for source in csvs:\n",
    "    data = pd.read_csv('../04.10.23/{}.csv'.format(source))\n",
    "\n",
    "    for author in data.authors:\n",
    "        if not source in authors:\n",
    "            authors[source] = []\n",
    "\n",
    "        if not type(author) == str:\n",
    "            continue\n",
    "\n",
    "        authors[source].append(author.strip())"
   ]
  },
  {
   "cell_type": "code",
   "execution_count": 83,
   "metadata": {},
   "outputs": [],
   "source": [
    "from collections import Counter"
   ]
  },
  {
   "cell_type": "code",
   "execution_count": 84,
   "metadata": {},
   "outputs": [
    {
     "name": "stdout",
     "output_type": "stream",
     "text": [
      "Top 10 Habr Authors\n",
      "('AnnieBronson', 27)\n",
      "('maybe_elf', 24)\n",
      "('daniilshat', 18)\n",
      "('IgnatChuker', 11)\n",
      "('ancotir', 8)\n",
      "('RationalAnswer', 7)\n",
      "('avouner', 4)\n",
      "('LizzieSimpson', 4)\n",
      "('monomoto', 4)\n",
      "('man_of_letters', 3)\n"
     ]
    }
   ],
   "source": [
    "if 'habr' in authors:\n",
    "    authors_counter = Counter(authors['habr'])\n",
    "\n",
    "    print('Top 10 Habr Authors', *authors_counter.most_common(10), sep='\\n')"
   ]
  },
  {
   "cell_type": "code",
   "execution_count": 85,
   "metadata": {},
   "outputs": [
    {
     "name": "stdout",
     "output_type": "stream",
     "text": [
      "Top 10 Cyberleninka Authors\n",
      "('Седов Е.В.', 4)\n",
      "('Чеховской И.С.', 4)\n",
      "('Фатхи Валентина Игоревна', 3)\n",
      "('Лосева Ольга Владиславовна', 3)\n",
      "('Ситник А. А.', 2)\n",
      "('Turdialiev', 2)\n",
      "('Шилов Кирилл Дмитриевич', 2)\n",
      "('Коданева Светлана Игоревна', 2)\n",
      "('Федотова Марина Алексеевна', 2)\n",
      "('Качулин Д.И.', 2)\n"
     ]
    }
   ],
   "source": [
    "if 'cyberleninka' in authors:\n",
    "    parsed_authors = [\n",
    "        item for sublist in [\n",
    "            list(\n",
    "                map(\n",
    "                    lambda x: x.strip(), i.split(',')\n",
    "                )\n",
    "            )\n",
    "            for i in authors['cyberleninka']\n",
    "        ]\n",
    "        for item in sublist\n",
    "    ]\n",
    "\n",
    "    parsed_authors = filter(lambda x: not x == 'и др.', parsed_authors)\n",
    "\n",
    "    authors_counter = Counter(parsed_authors)\n",
    "\n",
    "    print('Top 10 Cyberleninka Authors', *authors_counter.most_common(10), sep='\\n')"
   ]
  },
  {
   "cell_type": "code",
   "execution_count": 86,
   "metadata": {},
   "outputs": [
    {
     "name": "stdout",
     "output_type": "stream",
     "text": [
      "Top 10 GoogleScholar Authors\n",
      "('M Nadini', 3)\n",
      "('M Martino', 3)\n",
      "('D Yolanda', 3)\n",
      "('Y Wang', 3)\n",
      "('K Salah', 3)\n",
      "('Q Wang', 2)\n",
      "('L Ante', 2)\n",
      "('D Das', 2)\n",
      "('P Bose', 2)\n",
      "('C Kruegel', 2)\n"
     ]
    }
   ],
   "source": [
    "if 'googlescholar' in authors:\n",
    "    parsed_authors = [\n",
    "        item for sublist in [\n",
    "            list(\n",
    "                map(\n",
    "                    lambda x: x.strip(), i.split(',')\n",
    "                )\n",
    "            )\n",
    "            for i in authors['googlescholar']\n",
    "        ]\n",
    "        for item in sublist\n",
    "    ]\n",
    "\n",
    "    authors_counter = Counter(parsed_authors)\n",
    "\n",
    "    print('Top 10 GoogleScholar Authors', *authors_counter.most_common(10), sep='\\n')"
   ]
  }
 ],
 "metadata": {
  "kernelspec": {
   "display_name": "Python 3",
   "language": "python",
   "name": "python3"
  },
  "language_info": {
   "codemirror_mode": {
    "name": "ipython",
    "version": 3
   },
   "file_extension": ".py",
   "mimetype": "text/x-python",
   "name": "python",
   "nbconvert_exporter": "python",
   "pygments_lexer": "ipython3",
   "version": "3.11.5"
  }
 },
 "nbformat": 4,
 "nbformat_minor": 2
}
