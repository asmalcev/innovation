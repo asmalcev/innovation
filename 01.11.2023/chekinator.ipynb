{
 "cells": [
  {
   "cell_type": "code",
   "execution_count": 3,
   "metadata": {},
   "outputs": [
    {
     "name": "stdout",
     "output_type": "stream",
     "text": [
      "200\n"
     ]
    }
   ],
   "source": [
    "import requests\n",
    "\n",
    "try:\n",
    "    data = requests.get(\n",
    "        'https://gist.githubusercontent.com/nzhukov/b66c831ea88b4e5c4a044c952fb3e1ae/raw/7935e52297e2e85933e41d1fd16ed529f1e689f5/A%2520Brief%2520History%2520of%2520the%2520Web.txt')\n",
    "except Exception:\n",
    "    print('Not Found')\n",
    "else:\n",
    "    print(data.status_code)\n",
    "    data = data.text"
   ]
  },
  {
   "cell_type": "code",
   "execution_count": 4,
   "metadata": {},
   "outputs": [],
   "source": [
    "import nltk"
   ]
  },
  {
   "cell_type": "code",
   "execution_count": 5,
   "metadata": {},
   "outputs": [
    {
     "name": "stderr",
     "output_type": "stream",
     "text": [
      "[nltk_data] Downloading package punkt to /Users/asmalcev/nltk_data...\n",
      "[nltk_data]   Package punkt is already up-to-date!\n",
      "[nltk_data] Downloading package averaged_perceptron_tagger to\n",
      "[nltk_data]     /Users/asmalcev/nltk_data...\n",
      "[nltk_data]   Package averaged_perceptron_tagger is already up-to-\n",
      "[nltk_data]       date!\n"
     ]
    },
    {
     "data": {
      "text/plain": [
       "True"
      ]
     },
     "execution_count": 5,
     "metadata": {},
     "output_type": "execute_result"
    }
   ],
   "source": [
    "nltk.download(\"punkt\")\n",
    "nltk.download('averaged_perceptron_tagger')"
   ]
  },
  {
   "cell_type": "code",
   "execution_count": 6,
   "metadata": {},
   "outputs": [
    {
     "name": "stdout",
     "output_type": "stream",
     "text": [
      "!\"#$%&'()*+,-./:;<=>?@[\\]^_`{|}~\n"
     ]
    }
   ],
   "source": [
    "import string\n",
    "\n",
    "print(string.punctuation)"
   ]
  },
  {
   "cell_type": "code",
   "execution_count": 7,
   "metadata": {},
   "outputs": [
    {
     "data": {
      "text/plain": [
       "['This',\n",
       " 'was',\n",
       " 'written',\n",
       " 'for',\n",
       " 'a',\n",
       " 'possible',\n",
       " 'book',\n",
       " 'in',\n",
       " 'around',\n",
       " '1993/4']"
      ]
     },
     "execution_count": 7,
     "metadata": {},
     "output_type": "execute_result"
    }
   ],
   "source": [
    "tokens = nltk.word_tokenize(data)\n",
    "\n",
    "tokens[:10]"
   ]
  },
  {
   "cell_type": "code",
   "execution_count": 8,
   "metadata": {},
   "outputs": [
    {
     "data": {
      "text/plain": [
       "[('This', 'DT'),\n",
       " ('was', 'VBD'),\n",
       " ('written', 'VBN'),\n",
       " ('for', 'IN'),\n",
       " ('a', 'DT'),\n",
       " ('possible', 'JJ'),\n",
       " ('book', 'NN'),\n",
       " ('in', 'IN'),\n",
       " ('around', 'IN'),\n",
       " ('1993/4', 'CD')]"
      ]
     },
     "execution_count": 8,
     "metadata": {},
     "output_type": "execute_result"
    }
   ],
   "source": [
    "pos_tags = nltk.pos_tag(tokens)\n",
    "\n",
    "pos_tags[:10]"
   ]
  },
  {
   "cell_type": "code",
   "execution_count": 18,
   "metadata": {},
   "outputs": [
    {
     "data": {
      "text/plain": [
       "['DT', 'VBD', 'VBN', 'IN', 'DT', 'JJ', 'NN', 'IN', 'IN', 'CD']"
      ]
     },
     "execution_count": 18,
     "metadata": {},
     "output_type": "execute_result"
    }
   ],
   "source": [
    "invert_pos_tags = list(map(lambda x: x[1], pos_tags))\n",
    "\n",
    "invert_pos_tags[:10]"
   ]
  },
  {
   "cell_type": "code",
   "execution_count": 19,
   "metadata": {},
   "outputs": [
    {
     "data": {
      "text/plain": [
       "[('NN', 591),\n",
       " ('IN', 476),\n",
       " ('DT', 441),\n",
       " ('NNP', 267),\n",
       " ('JJ', 265),\n",
       " ('NNS', 217),\n",
       " ('VBD', 209),\n",
       " (',', 195),\n",
       " ('RB', 166),\n",
       " ('.', 156)]"
      ]
     },
     "execution_count": 19,
     "metadata": {},
     "output_type": "execute_result"
    }
   ],
   "source": [
    "from collections import Counter\n",
    "\n",
    "simple_word_stats = Counter(invert_pos_tags)\n",
    "\n",
    "simple_word_stats.most_common(10)"
   ]
  },
  {
   "cell_type": "code",
   "execution_count": 28,
   "metadata": {},
   "outputs": [
    {
     "name": "stdout",
     "output_type": "stream",
     "text": [
      "Nouns: 1076\n",
      "Verbs: 547\n",
      "Interjections: 476\n",
      "Adjectives: 277\n",
      "Prepositions: 124\n",
      "Adverbs: 4\n"
     ]
    }
   ],
   "source": [
    "name_tag_group_map = {\n",
    "    # Существительное\n",
    "    \"Nouns\": ['NN', 'NNS', 'NNP', 'NNPS'],\n",
    "    # Прилагательное\n",
    "    \"Adjectives\": ['JJ', 'JJR', 'JJS'],\n",
    "    # Глаголы\n",
    "    \"Verbs\": ['VB', 'VBD', 'VBG', 'VBN', 'VBP', 'VBZ'],\n",
    "    # Наречия\n",
    "    \"Adverbs\": [\"RBR\", \"RBS\"],\n",
    "    # Междометия\n",
    "    \"Interjections\": ['IN'],\n",
    "    # Предлоги\n",
    "    \"Prepositions\": [\"PRP\", \"PRPS\"],\n",
    "}\n",
    "\n",
    "rating = []\n",
    "for word_type in name_tag_group_map:\n",
    "    rating.append((word_type, sum(map(lambda x: simple_word_stats[x], name_tag_group_map[word_type]))))\n",
    "\n",
    "rating.sort(key=lambda x: x[1], reverse=True)\n",
    "\n",
    "for wort_type_stat in rating:\n",
    "    print('{}:'.format(wort_type_stat[0]), wort_type_stat[1])\n"
   ]
  }
 ],
 "metadata": {
  "kernelspec": {
   "display_name": "Python 3",
   "language": "python",
   "name": "python3"
  },
  "language_info": {
   "codemirror_mode": {
    "name": "ipython",
    "version": 3
   },
   "file_extension": ".py",
   "mimetype": "text/x-python",
   "name": "python",
   "nbconvert_exporter": "python",
   "pygments_lexer": "ipython3",
   "version": "3.11.5"
  }
 },
 "nbformat": 4,
 "nbformat_minor": 2
}
