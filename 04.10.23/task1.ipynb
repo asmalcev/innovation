{
 "cells": [
  {
   "cell_type": "code",
   "execution_count": 21,
   "metadata": {},
   "outputs": [],
   "source": [
    "from google_scholar import GoogleScholar\n",
    "from cyberleninka import CyberLeninka\n",
    "from habr import Habr\n",
    "\n",
    "request = 'NFT'"
   ]
  },
  {
   "cell_type": "code",
   "execution_count": 22,
   "metadata": {},
   "outputs": [],
   "source": [
    "google_scholar_df = GoogleScholar.fetch_df_cached(request, 50)"
   ]
  },
  {
   "cell_type": "code",
   "execution_count": 23,
   "metadata": {},
   "outputs": [
    {
     "name": "stdout",
     "output_type": "stream",
     "text": [
      "Rows: 197\n"
     ]
    },
    {
     "data": {
      "text/html": [
       "<div>\n",
       "<style scoped>\n",
       "    .dataframe tbody tr th:only-of-type {\n",
       "        vertical-align: middle;\n",
       "    }\n",
       "\n",
       "    .dataframe tbody tr th {\n",
       "        vertical-align: top;\n",
       "    }\n",
       "\n",
       "    .dataframe thead th {\n",
       "        text-align: right;\n",
       "    }\n",
       "</style>\n",
       "<table border=\"1\" class=\"dataframe\">\n",
       "  <thead>\n",
       "    <tr style=\"text-align: right;\">\n",
       "      <th></th>\n",
       "      <th>source</th>\n",
       "      <th>title</th>\n",
       "      <th>link</th>\n",
       "      <th>authors</th>\n",
       "    </tr>\n",
       "  </thead>\n",
       "  <tbody>\n",
       "    <tr>\n",
       "      <th>0</th>\n",
       "      <td>GoogleScholar</td>\n",
       "      <td>Non-fungible token (NFT): Overview, evaluation...</td>\n",
       "      <td>https://arxiv.org/abs/2105.07447</td>\n",
       "      <td>Q Wang, R Li, Q Wang, S Chen</td>\n",
       "    </tr>\n",
       "    <tr>\n",
       "      <th>1</th>\n",
       "      <td>GoogleScholar</td>\n",
       "      <td>Mapping the NFT revolution: market trends, tra...</td>\n",
       "      <td>https://www.nature.com/articles/s41598-021-000...</td>\n",
       "      <td>M Nadini, L Alessandretti, F Di Giacinto, M Ma...</td>\n",
       "    </tr>\n",
       "    <tr>\n",
       "      <th>2</th>\n",
       "      <td>GoogleScholar</td>\n",
       "      <td>Increased incidence of neurofibrillary tangles...</td>\n",
       "      <td>https://www.sciencedirect.com/science/article/...</td>\n",
       "      <td>NaN</td>\n",
       "    </tr>\n",
       "    <tr>\n",
       "      <th>3</th>\n",
       "      <td>GoogleScholar</td>\n",
       "      <td>EEGLAB, SIFT, NFT, BCILAB, and ERICA: new tool...</td>\n",
       "      <td>https://www.hindawi.com/journals/cin/2011/1307...</td>\n",
       "      <td>A Delorme, T Mullen, C Kothe</td>\n",
       "    </tr>\n",
       "    <tr>\n",
       "      <th>4</th>\n",
       "      <td>GoogleScholar</td>\n",
       "      <td>The ABC of NFT. Nutrient film technique.</td>\n",
       "      <td>https://www.cabdirect.org/cabdirect/abstract/1...</td>\n",
       "      <td>NaN</td>\n",
       "    </tr>\n",
       "  </tbody>\n",
       "</table>\n",
       "</div>"
      ],
      "text/plain": [
       "          source                                              title  \\\n",
       "0  GoogleScholar  Non-fungible token (NFT): Overview, evaluation...   \n",
       "1  GoogleScholar  Mapping the NFT revolution: market trends, tra...   \n",
       "2  GoogleScholar  Increased incidence of neurofibrillary tangles...   \n",
       "3  GoogleScholar  EEGLAB, SIFT, NFT, BCILAB, and ERICA: new tool...   \n",
       "4  GoogleScholar           The ABC of NFT. Nutrient film technique.   \n",
       "\n",
       "                                                link  \\\n",
       "0                   https://arxiv.org/abs/2105.07447   \n",
       "1  https://www.nature.com/articles/s41598-021-000...   \n",
       "2  https://www.sciencedirect.com/science/article/...   \n",
       "3  https://www.hindawi.com/journals/cin/2011/1307...   \n",
       "4  https://www.cabdirect.org/cabdirect/abstract/1...   \n",
       "\n",
       "                                             authors  \n",
       "0                       Q Wang, R Li, Q Wang, S Chen  \n",
       "1  M Nadini, L Alessandretti, F Di Giacinto, M Ma...  \n",
       "2                                                NaN  \n",
       "3                       A Delorme, T Mullen, C Kothe  \n",
       "4                                                NaN  "
      ]
     },
     "execution_count": 23,
     "metadata": {},
     "output_type": "execute_result"
    }
   ],
   "source": [
    "print('Rows:', google_scholar_df.shape[0])\n",
    "google_scholar_df.head()"
   ]
  },
  {
   "cell_type": "code",
   "execution_count": 24,
   "metadata": {},
   "outputs": [],
   "source": [
    "cyber_leninka_df = CyberLeninka.fetch_df_cached(request, 200)"
   ]
  },
  {
   "cell_type": "code",
   "execution_count": 25,
   "metadata": {},
   "outputs": [
    {
     "name": "stdout",
     "output_type": "stream",
     "text": [
      "Rows: 200\n"
     ]
    },
    {
     "data": {
      "text/html": [
       "<div>\n",
       "<style scoped>\n",
       "    .dataframe tbody tr th:only-of-type {\n",
       "        vertical-align: middle;\n",
       "    }\n",
       "\n",
       "    .dataframe tbody tr th {\n",
       "        vertical-align: top;\n",
       "    }\n",
       "\n",
       "    .dataframe thead th {\n",
       "        text-align: right;\n",
       "    }\n",
       "</style>\n",
       "<table border=\"1\" class=\"dataframe\">\n",
       "  <thead>\n",
       "    <tr style=\"text-align: right;\">\n",
       "      <th></th>\n",
       "      <th>source</th>\n",
       "      <th>title</th>\n",
       "      <th>link</th>\n",
       "      <th>authors</th>\n",
       "    </tr>\n",
       "  </thead>\n",
       "  <tbody>\n",
       "    <tr>\n",
       "      <th>0</th>\n",
       "      <td>CyberLeninka</td>\n",
       "      <td>ПРАВОВОЕ РЕГУЛИРОВАНИЕ КРИПТОВАЛЮТЫ И &lt;b&gt;NFT&lt;/...</td>\n",
       "      <td>https://cyberleninka.ru/article/n/pravovoe-reg...</td>\n",
       "      <td>Мартьянова Галина Васильевна, Сокрут Егор Рома...</td>\n",
       "    </tr>\n",
       "    <tr>\n",
       "      <th>1</th>\n",
       "      <td>CyberLeninka</td>\n",
       "      <td>ЦИФРОВОЕ ИСКУССТВО НА БЛОКЧЕЙНЕ И &lt;b&gt;NFT&lt;/b&gt;-Р...</td>\n",
       "      <td>https://cyberleninka.ru/article/n/tsifrovoe-is...</td>\n",
       "      <td>Ванцовская Анна Александровна</td>\n",
       "    </tr>\n",
       "    <tr>\n",
       "      <th>2</th>\n",
       "      <td>CyberLeninka</td>\n",
       "      <td>ФИНАНСОВЫЕ ПИРАМИДЫ С ИСПОЛЬЗОВАНИЕМ &lt;b&gt;NFT&lt;/b...</td>\n",
       "      <td>https://cyberleninka.ru/article/n/finansovye-p...</td>\n",
       "      <td>Кашапова Эльмира Рамисовна, Рыжкова Марина Вяч...</td>\n",
       "    </tr>\n",
       "    <tr>\n",
       "      <th>3</th>\n",
       "      <td>CyberLeninka</td>\n",
       "      <td>&lt;b&gt;NFT&lt;/b&gt; КАК ОБЪЕКТ ПРАВОВОГО РЕГУЛИРОВАНИЯ</td>\n",
       "      <td>https://cyberleninka.ru/article/n/nft-kak-obek...</td>\n",
       "      <td>Ситник А. А.</td>\n",
       "    </tr>\n",
       "    <tr>\n",
       "      <th>4</th>\n",
       "      <td>CyberLeninka</td>\n",
       "      <td>ПРОБЛЕМА УНИКАЛЬНОСТИ В ХУДОЖЕСТВЕННОЙ ФОТОГРА...</td>\n",
       "      <td>https://cyberleninka.ru/article/n/problema-uni...</td>\n",
       "      <td>Юргенева Александра Львовна</td>\n",
       "    </tr>\n",
       "  </tbody>\n",
       "</table>\n",
       "</div>"
      ],
      "text/plain": [
       "         source                                              title  \\\n",
       "0  CyberLeninka  ПРАВОВОЕ РЕГУЛИРОВАНИЕ КРИПТОВАЛЮТЫ И <b>NFT</...   \n",
       "1  CyberLeninka  ЦИФРОВОЕ ИСКУССТВО НА БЛОКЧЕЙНЕ И <b>NFT</b>-Р...   \n",
       "2  CyberLeninka  ФИНАНСОВЫЕ ПИРАМИДЫ С ИСПОЛЬЗОВАНИЕМ <b>NFT</b...   \n",
       "3  CyberLeninka      <b>NFT</b> КАК ОБЪЕКТ ПРАВОВОГО РЕГУЛИРОВАНИЯ   \n",
       "4  CyberLeninka  ПРОБЛЕМА УНИКАЛЬНОСТИ В ХУДОЖЕСТВЕННОЙ ФОТОГРА...   \n",
       "\n",
       "                                                link  \\\n",
       "0  https://cyberleninka.ru/article/n/pravovoe-reg...   \n",
       "1  https://cyberleninka.ru/article/n/tsifrovoe-is...   \n",
       "2  https://cyberleninka.ru/article/n/finansovye-p...   \n",
       "3  https://cyberleninka.ru/article/n/nft-kak-obek...   \n",
       "4  https://cyberleninka.ru/article/n/problema-uni...   \n",
       "\n",
       "                                             authors  \n",
       "0  Мартьянова Галина Васильевна, Сокрут Егор Рома...  \n",
       "1                      Ванцовская Анна Александровна  \n",
       "2  Кашапова Эльмира Рамисовна, Рыжкова Марина Вяч...  \n",
       "3                                       Ситник А. А.  \n",
       "4                        Юргенева Александра Львовна  "
      ]
     },
     "execution_count": 25,
     "metadata": {},
     "output_type": "execute_result"
    }
   ],
   "source": [
    "print('Rows:', cyber_leninka_df.shape[0])\n",
    "cyber_leninka_df.head()"
   ]
  },
  {
   "cell_type": "code",
   "execution_count": 26,
   "metadata": {},
   "outputs": [],
   "source": [
    "habr_df = Habr.fetch_df_cached(request, 10)"
   ]
  },
  {
   "cell_type": "code",
   "execution_count": 27,
   "metadata": {},
   "outputs": [
    {
     "name": "stdout",
     "output_type": "stream",
     "text": [
      "Rows: 200\n"
     ]
    },
    {
     "data": {
      "text/html": [
       "<div>\n",
       "<style scoped>\n",
       "    .dataframe tbody tr th:only-of-type {\n",
       "        vertical-align: middle;\n",
       "    }\n",
       "\n",
       "    .dataframe tbody tr th {\n",
       "        vertical-align: top;\n",
       "    }\n",
       "\n",
       "    .dataframe thead th {\n",
       "        text-align: right;\n",
       "    }\n",
       "</style>\n",
       "<table border=\"1\" class=\"dataframe\">\n",
       "  <thead>\n",
       "    <tr style=\"text-align: right;\">\n",
       "      <th></th>\n",
       "      <th>source</th>\n",
       "      <th>title</th>\n",
       "      <th>link</th>\n",
       "      <th>authors</th>\n",
       "    </tr>\n",
       "  </thead>\n",
       "  <tbody>\n",
       "    <tr>\n",
       "      <th>0</th>\n",
       "      <td>Habr</td>\n",
       "      <td>Пишем TIP-4 NFT коллекцию с картами для Гвинта...</td>\n",
       "      <td>https://habr.com/ru/articles/765608/</td>\n",
       "      <td>broxus</td>\n",
       "    </tr>\n",
       "    <tr>\n",
       "      <th>1</th>\n",
       "      <td>Habr</td>\n",
       "      <td>Пользователи VK смогут подтверждать своё образ...</td>\n",
       "      <td>https://habr.com/ru/news/748490/</td>\n",
       "      <td>avouner</td>\n",
       "    </tr>\n",
       "    <tr>\n",
       "      <th>2</th>\n",
       "      <td>Habr</td>\n",
       "      <td>Исследование: 95% существующих NFT сейчас прак...</td>\n",
       "      <td>https://habr.com/ru/news/762672/</td>\n",
       "      <td>daniilshat</td>\n",
       "    </tr>\n",
       "    <tr>\n",
       "      <th>3</th>\n",
       "      <td>Habr</td>\n",
       "      <td>«ВКонтакте» представила NFT-аватары, витрину т...</td>\n",
       "      <td>https://habr.com/ru/news/705102/</td>\n",
       "      <td>maybe_elf</td>\n",
       "    </tr>\n",
       "    <tr>\n",
       "      <th>4</th>\n",
       "      <td>Habr</td>\n",
       "      <td>Открываем регистрацию на Хакатон VK NFT x Defi...</td>\n",
       "      <td>https://habr.com/ru/companies/vk/news/713718/</td>\n",
       "      <td>Barrayar</td>\n",
       "    </tr>\n",
       "  </tbody>\n",
       "</table>\n",
       "</div>"
      ],
      "text/plain": [
       "  source                                              title  \\\n",
       "0   Habr  Пишем TIP-4 NFT коллекцию с картами для Гвинта...   \n",
       "1   Habr  Пользователи VK смогут подтверждать своё образ...   \n",
       "2   Habr  Исследование: 95% существующих NFT сейчас прак...   \n",
       "3   Habr  «ВКонтакте» представила NFT-аватары, витрину т...   \n",
       "4   Habr  Открываем регистрацию на Хакатон VK NFT x Defi...   \n",
       "\n",
       "                                            link                 authors  \n",
       "0           https://habr.com/ru/articles/765608/            broxus        \n",
       "1               https://habr.com/ru/news/748490/           avouner        \n",
       "2               https://habr.com/ru/news/762672/        daniilshat        \n",
       "3               https://habr.com/ru/news/705102/         maybe_elf        \n",
       "4  https://habr.com/ru/companies/vk/news/713718/          Barrayar        "
      ]
     },
     "execution_count": 27,
     "metadata": {},
     "output_type": "execute_result"
    }
   ],
   "source": [
    "print('Rows:', habr_df.shape[0])\n",
    "habr_df.head()"
   ]
  }
 ],
 "metadata": {
  "kernelspec": {
   "display_name": "Python 3",
   "language": "python",
   "name": "python3"
  },
  "language_info": {
   "codemirror_mode": {
    "name": "ipython",
    "version": 3
   },
   "file_extension": ".py",
   "mimetype": "text/x-python",
   "name": "python",
   "nbconvert_exporter": "python",
   "pygments_lexer": "ipython3",
   "version": "3.11.5"
  },
  "orig_nbformat": 4
 },
 "nbformat": 4,
 "nbformat_minor": 2
}
