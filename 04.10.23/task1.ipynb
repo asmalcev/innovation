{
 "cells": [
  {
   "cell_type": "code",
   "execution_count": 29,
   "metadata": {},
   "outputs": [],
   "source": [
    "from google_scholar import GoogleScholar\n",
    "from cyberleninka import CyberLeninka\n",
    "\n",
    "request = 'NFT'\n"
   ]
  },
  {
   "cell_type": "code",
   "execution_count": 30,
   "metadata": {},
   "outputs": [],
   "source": [
    "# google_scholar_df = GoogleScholar.fetch_df_cached(request, 50)"
   ]
  },
  {
   "cell_type": "code",
   "execution_count": 31,
   "metadata": {},
   "outputs": [],
   "source": [
    "# print('Rows:', google_scholar_df.shape[0])\n",
    "# google_scholar_df.head()"
   ]
  },
  {
   "cell_type": "code",
   "execution_count": 32,
   "metadata": {},
   "outputs": [],
   "source": [
    "cyber_leninka_df = CyberLeninka.fetch_df_cached(request, 50)"
   ]
  },
  {
   "cell_type": "code",
   "execution_count": 33,
   "metadata": {},
   "outputs": [
    {
     "name": "stdout",
     "output_type": "stream",
     "text": [
      "Rows: 50\n"
     ]
    },
    {
     "data": {
      "text/html": [
       "<div>\n",
       "<style scoped>\n",
       "    .dataframe tbody tr th:only-of-type {\n",
       "        vertical-align: middle;\n",
       "    }\n",
       "\n",
       "    .dataframe tbody tr th {\n",
       "        vertical-align: top;\n",
       "    }\n",
       "\n",
       "    .dataframe thead th {\n",
       "        text-align: right;\n",
       "    }\n",
       "</style>\n",
       "<table border=\"1\" class=\"dataframe\">\n",
       "  <thead>\n",
       "    <tr style=\"text-align: right;\">\n",
       "      <th></th>\n",
       "      <th>source</th>\n",
       "      <th>title</th>\n",
       "      <th>link</th>\n",
       "      <th>authors</th>\n",
       "    </tr>\n",
       "  </thead>\n",
       "  <tbody>\n",
       "    <tr>\n",
       "      <th>0</th>\n",
       "      <td>CyberLeninka</td>\n",
       "      <td>ПРАВОВОЕ РЕГУЛИРОВАНИЕ КРИПТОВАЛЮТЫ И &lt;b&gt;NFT&lt;/...</td>\n",
       "      <td>https://cyberleninka.ru/article/n/pravovoe-reg...</td>\n",
       "      <td>Мартьянова Галина Васильевна, Сокрут Егор Рома...</td>\n",
       "    </tr>\n",
       "    <tr>\n",
       "      <th>1</th>\n",
       "      <td>CyberLeninka</td>\n",
       "      <td>ЦИФРОВОЕ ИСКУССТВО НА БЛОКЧЕЙНЕ И &lt;b&gt;NFT&lt;/b&gt;-Р...</td>\n",
       "      <td>https://cyberleninka.ru/article/n/tsifrovoe-is...</td>\n",
       "      <td>Ванцовская Анна Александровна</td>\n",
       "    </tr>\n",
       "    <tr>\n",
       "      <th>2</th>\n",
       "      <td>CyberLeninka</td>\n",
       "      <td>ФИНАНСОВЫЕ ПИРАМИДЫ С ИСПОЛЬЗОВАНИЕМ &lt;b&gt;NFT&lt;/b...</td>\n",
       "      <td>https://cyberleninka.ru/article/n/finansovye-p...</td>\n",
       "      <td>Кашапова Эльмира Рамисовна, Рыжкова Марина Вяч...</td>\n",
       "    </tr>\n",
       "    <tr>\n",
       "      <th>3</th>\n",
       "      <td>CyberLeninka</td>\n",
       "      <td>&lt;b&gt;NFT&lt;/b&gt; КАК ОБЪЕКТ ПРАВОВОГО РЕГУЛИРОВАНИЯ</td>\n",
       "      <td>https://cyberleninka.ru/article/n/nft-kak-obek...</td>\n",
       "      <td>Ситник А. А.</td>\n",
       "    </tr>\n",
       "    <tr>\n",
       "      <th>4</th>\n",
       "      <td>CyberLeninka</td>\n",
       "      <td>ПРОБЛЕМА УНИКАЛЬНОСТИ В ХУДОЖЕСТВЕННОЙ ФОТОГРА...</td>\n",
       "      <td>https://cyberleninka.ru/article/n/problema-uni...</td>\n",
       "      <td>Юргенева Александра Львовна</td>\n",
       "    </tr>\n",
       "  </tbody>\n",
       "</table>\n",
       "</div>"
      ],
      "text/plain": [
       "         source                                              title  \\\n",
       "0  CyberLeninka  ПРАВОВОЕ РЕГУЛИРОВАНИЕ КРИПТОВАЛЮТЫ И <b>NFT</...   \n",
       "1  CyberLeninka  ЦИФРОВОЕ ИСКУССТВО НА БЛОКЧЕЙНЕ И <b>NFT</b>-Р...   \n",
       "2  CyberLeninka  ФИНАНСОВЫЕ ПИРАМИДЫ С ИСПОЛЬЗОВАНИЕМ <b>NFT</b...   \n",
       "3  CyberLeninka      <b>NFT</b> КАК ОБЪЕКТ ПРАВОВОГО РЕГУЛИРОВАНИЯ   \n",
       "4  CyberLeninka  ПРОБЛЕМА УНИКАЛЬНОСТИ В ХУДОЖЕСТВЕННОЙ ФОТОГРА...   \n",
       "\n",
       "                                                link  \\\n",
       "0  https://cyberleninka.ru/article/n/pravovoe-reg...   \n",
       "1  https://cyberleninka.ru/article/n/tsifrovoe-is...   \n",
       "2  https://cyberleninka.ru/article/n/finansovye-p...   \n",
       "3  https://cyberleninka.ru/article/n/nft-kak-obek...   \n",
       "4  https://cyberleninka.ru/article/n/problema-uni...   \n",
       "\n",
       "                                             authors  \n",
       "0  Мартьянова Галина Васильевна, Сокрут Егор Рома...  \n",
       "1                      Ванцовская Анна Александровна  \n",
       "2  Кашапова Эльмира Рамисовна, Рыжкова Марина Вяч...  \n",
       "3                                       Ситник А. А.  \n",
       "4                        Юргенева Александра Львовна  "
      ]
     },
     "execution_count": 33,
     "metadata": {},
     "output_type": "execute_result"
    }
   ],
   "source": [
    "print('Rows:', cyber_leninka_df.shape[0])\n",
    "cyber_leninka_df.head()"
   ]
  }
 ],
 "metadata": {
  "kernelspec": {
   "display_name": "Python 3",
   "language": "python",
   "name": "python3"
  },
  "language_info": {
   "codemirror_mode": {
    "name": "ipython",
    "version": 3
   },
   "file_extension": ".py",
   "mimetype": "text/x-python",
   "name": "python",
   "nbconvert_exporter": "python",
   "pygments_lexer": "ipython3",
   "version": "3.11.5"
  },
  "orig_nbformat": 4
 },
 "nbformat": 4,
 "nbformat_minor": 2
}
